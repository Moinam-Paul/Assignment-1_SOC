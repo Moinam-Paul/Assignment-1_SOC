{
 "cells": [
  {
   "cell_type": "code",
   "execution_count": 8,
   "id": "a0222e9b-a247-4a9f-b4bc-eb35fa909487",
   "metadata": {},
   "outputs": [],
   "source": [
    "from bs4 import BeautifulSoup\n",
    "import requests\n",
    "import pandas as pd\n",
    "\n",
    "text = requests.get(\"https://shiveshcodes.github.io/wncc-soc.github.io/soc/\").text\n",
    "soup = BeautifulSoup(text , 'lxml')\n",
    "projects = soup.find_all('div' , class_='rounded hover-wrapper pr-3 pl-3 pt-3 pb-3 bg-white')\n",
    "links1 = soup.find_all('a', href = False)\n",
    "\n",
    "sl_no=[]\n",
    "titles=[]\n",
    "links=[]\n",
    "urls=[]\n",
    "no_of_mentees=[]\n",
    "mentors=[]\n",
    "c=1\n",
    "\n",
    "for project in projects:\n",
    "    title = project.find('p' , class_='lead text-center font-weight-bold text-dark').text.strip()\n",
    "    titles.append(title)\n",
    "    link = project.a['href']\n",
    "    links.append(link)\n",
    "    sl_no.append(c)\n",
    "    c=c+1\n",
    "\n",
    "def lead(x):\n",
    "    return 'lead' in x['class'] and len(x['class']) == 1\n",
    "\n",
    "for link in links:\n",
    "    if \"wncc-soc.github.io/soc/projects/2023/\" in link:\n",
    "        txt = \"https://shiveshcodes.github.io/\" + link\n",
    "        urls.append(txt)\n",
    "        txt_1 = requests.get(txt).text\n",
    "        soup1 = BeautifulSoup(txt_1 , 'lxml')\n",
    "        all_mentors = []\n",
    "        for y in soup1.find_all('p', class_='lead'):\n",
    "            if lead(y):\n",
    "                text_1 = y.text.strip()\n",
    "                if text_1[0:1].isdigit():\n",
    "                    no_of_mentees.append(text_1)\n",
    "                else:\n",
    "                    all_mentors.append(text_1)\n",
    "        mentors.append(','.join(all_mentors))\n",
    "        \n",
    "df = pd.DataFrame({'Sl. No.': sl_no, 'Title': titles, 'Mentors': mentors, 'No. of mentees': no_of_mentees, 'Link': urls})\n",
    "df.to_excel('Assignment-1.xlsx', index=False)"
   ]
  },
  {
   "cell_type": "code",
   "execution_count": null,
   "id": "54e52a96-1f03-4272-9b1b-bce94e53fabe",
   "metadata": {},
   "outputs": [],
   "source": []
  }
 ],
 "metadata": {
  "kernelspec": {
   "display_name": "Python 3 (ipykernel)",
   "language": "python",
   "name": "python3"
  },
  "language_info": {
   "codemirror_mode": {
    "name": "ipython",
    "version": 3
   },
   "file_extension": ".py",
   "mimetype": "text/x-python",
   "name": "python",
   "nbconvert_exporter": "python",
   "pygments_lexer": "ipython3",
   "version": "3.11.7"
  }
 },
 "nbformat": 4,
 "nbformat_minor": 5
}
